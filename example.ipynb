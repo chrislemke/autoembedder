{
 "cells": [
  {
   "cell_type": "markdown",
   "metadata": {},
   "source": [
    "# Setup"
   ]
  },
  {
   "cell_type": "code",
   "execution_count": null,
   "metadata": {},
   "outputs": [],
   "source": [
    "%%capture\n",
    "! pip install autoembedder\n",
    "! pip install ipywidgets==8.0.2\n",
    "! pip install plotly==5.11.0\n",
    "! pip install scikit-learn==1.1.3"
   ]
  },
  {
   "cell_type": "code",
   "execution_count": null,
   "metadata": {},
   "outputs": [],
   "source": [
    "import numpy as np\n",
    "import pandas as pd\n",
    "import torch\n",
    "from sklearn.manifold import TSNE\n",
    "from sklearn.model_selection import train_test_split\n",
    "from sklearn.preprocessing import MinMaxScaler\n",
    "from autoembedder import Autoembedder, dataloader, fit\n",
    "\n",
    "import plotly.offline as py\n",
    "import plotly.graph_objs as go"
   ]
  },
  {
   "cell_type": "code",
   "execution_count": null,
   "metadata": {},
   "outputs": [],
   "source": [
    "py.init_notebook_mode(connected=True)"
   ]
  },
  {
   "cell_type": "markdown",
   "metadata": {},
   "source": [
    "## Set `data_path`"
   ]
  },
  {
   "cell_type": "markdown",
   "metadata": {},
   "source": [
    "A good dataset to test the autoencoder for outlier detection is the [`Credit Card Fraud Detection`](https://www.kaggle.com/datasets/mlg-ulb/creditcardfraud) from [Kaggle](https://www.kaggle.com/). To use it in the notebook please download the dataset and set the `data_path` variable to the path of the downloaded dataset. "
   ]
  },
  {
   "cell_type": "code",
   "execution_count": null,
   "metadata": {},
   "outputs": [],
   "source": [
    "data_path = \"path/to/your/data\"  # Path to your data"
   ]
  },
  {
   "cell_type": "markdown",
   "metadata": {},
   "source": [
    "# Functions"
   ]
  },
  {
   "cell_type": "markdown",
   "metadata": {},
   "source": [
    "### `plot_scatter`"
   ]
  },
  {
   "cell_type": "code",
   "execution_count": null,
   "metadata": {},
   "outputs": [],
   "source": [
    "def plot_scatter(X, y):\n",
    "    X = TSNE(\n",
    "        n_components=2, random_state=42, learning_rate=\"auto\", init=\"random\"\n",
    "    ).fit_transform(X)\n",
    "\n",
    "    traces = [\n",
    "        go.Scatter(\n",
    "            x=X[y == 0, 0],\n",
    "            y=X[y == 0, 1],\n",
    "            mode=\"markers\",\n",
    "            showlegend=True,\n",
    "            name=\"Non Fraud (0)\",\n",
    "        ),\n",
    "        go.Scatter(\n",
    "            x=X[y == 1, 0],\n",
    "            y=X[y == 1, 1],\n",
    "            mode=\"markers\",\n",
    "            showlegend=True,\n",
    "            name=\"Fraud (1)\",\n",
    "        ),\n",
    "    ]\n",
    "    layout = dict(title=\"TSNE\")\n",
    "    fig = go.Figure(data=traces, layout=layout)\n",
    "    py.iplot(fig)"
   ]
  },
  {
   "cell_type": "markdown",
   "metadata": {},
   "source": [
    "# Data overview"
   ]
  },
  {
   "cell_type": "markdown",
   "metadata": {},
   "source": [
    "### Read CSV and scale `Time` column"
   ]
  },
  {
   "cell_type": "code",
   "execution_count": null,
   "metadata": {},
   "outputs": [],
   "source": [
    "df = pd.read_csv(data_path)\n",
    "df[\"Time\"] = df[\"Time\"] / 3600 % 24"
   ]
  },
  {
   "cell_type": "markdown",
   "metadata": {},
   "source": [
    "### Get sample DataFrame"
   ]
  },
  {
   "cell_type": "code",
   "execution_count": null,
   "metadata": {},
   "outputs": [],
   "source": [
    "df = (\n",
    "    pd.concat([df.loc[df[\"Class\"] == 1], df.loc[df[\"Class\"] == 0].sample(3000)])\n",
    "    .sample(frac=1)\n",
    "    .reset_index(drop=True)\n",
    ")\n",
    "y = df.pop(\"Class\")"
   ]
  },
  {
   "cell_type": "markdown",
   "metadata": {},
   "source": [
    "### Plot data"
   ]
  },
  {
   "cell_type": "code",
   "execution_count": null,
   "metadata": {},
   "outputs": [],
   "source": [
    "plot_scatter(df, y)"
   ]
  },
  {
   "cell_type": "markdown",
   "metadata": {},
   "source": [
    "# Autoembedder"
   ]
  },
  {
   "cell_type": "code",
   "execution_count": null,
   "metadata": {},
   "outputs": [],
   "source": [
    "df = pd.read_csv(data_path)\n",
    "X_train_df, X_test_df, y_train, y_test = train_test_split(\n",
    "    df.drop(\"Class\", axis=1), df[\"Class\"], test_size=0.2\n",
    ")"
   ]
  },
  {
   "cell_type": "markdown",
   "metadata": {},
   "source": [
    "### Scale and prepare data"
   ]
  },
  {
   "cell_type": "code",
   "execution_count": null,
   "metadata": {},
   "outputs": [],
   "source": [
    "scaler = MinMaxScaler()\n",
    "X_train = scaler.fit_transform(X_train_df)\n",
    "X_test = scaler.transform(X_test_df)\n",
    "\n",
    "train_df = pd.DataFrame(X_train, columns=X_train_df.columns)\n",
    "test_df = pd.DataFrame(X_test, columns=X_test_df.columns)\n",
    "eval_df = pd.DataFrame(\n",
    "    np.concatenate((X_test, y_test.to_numpy()[:, None]), axis=1), columns=df.columns\n",
    ")"
   ]
  },
  {
   "cell_type": "markdown",
   "metadata": {},
   "source": [
    "### Training parameters"
   ]
  },
  {
   "cell_type": "markdown",
   "metadata": {},
   "source": [
    "Read more about the parameters [here](https://github.com/chrislemke/autoembedder#parameters)."
   ]
  },
  {
   "cell_type": "code",
   "execution_count": null,
   "metadata": {},
   "outputs": [],
   "source": [
    "parameters = {\n",
    "    \"hidden_layers\": [[20, 15], [15, 10]],\n",
    "    \"epochs\": 10,\n",
    "    \"verbose\": 1,\n",
    "}"
   ]
  },
  {
   "cell_type": "markdown",
   "metadata": {},
   "source": [
    "### Create data loaders"
   ]
  },
  {
   "cell_type": "code",
   "execution_count": null,
   "metadata": {},
   "outputs": [],
   "source": [
    "train_dl = dataloader(train_df, parameters)\n",
    "test_dl = dataloader(test_df, parameters)"
   ]
  },
  {
   "cell_type": "markdown",
   "metadata": {},
   "source": [
    "### Create instance of the autoencoder model"
   ]
  },
  {
   "cell_type": "code",
   "execution_count": null,
   "metadata": {},
   "outputs": [],
   "source": [
    "model = Autoembedder(parameters, num_cont_features=30, embedding_sizes=[])"
   ]
  },
  {
   "cell_type": "markdown",
   "metadata": {},
   "source": [
    "### Fit autoencoder"
   ]
  },
  {
   "cell_type": "code",
   "execution_count": null,
   "metadata": {},
   "outputs": [],
   "source": [
    "fit(parameters, model, train_dl, test_dl)"
   ]
  },
  {
   "cell_type": "markdown",
   "metadata": {},
   "source": [
    "### Predict test data"
   ]
  },
  {
   "cell_type": "code",
   "execution_count": null,
   "metadata": {},
   "outputs": [],
   "source": [
    "X_non_fraud = eval_df.query(\"Class == 0\").drop(\"Class\", axis=1).to_numpy()\n",
    "X_fraud = eval_df.query(\"Class == 1\").drop(\"Class\", axis=1).to_numpy()\n",
    "\n",
    "with torch.no_grad():\n",
    "    model.eval()\n",
    "    non_fraud_encoded = model.encoder(torch.from_numpy(X_non_fraud))\n",
    "    fraud_encoded = model.encoder(torch.from_numpy(X_fraud))\n",
    "\n",
    "encoded_X = np.append(non_fraud_encoded[:8000], fraud_encoded, axis=0)\n",
    "encoded_y = np.append(np.zeros(8000), np.ones(len(fraud_encoded)))"
   ]
  },
  {
   "cell_type": "markdown",
   "metadata": {},
   "source": [
    "### Plot results from test data"
   ]
  },
  {
   "cell_type": "code",
   "execution_count": null,
   "metadata": {},
   "outputs": [],
   "source": [
    "plot_scatter(encoded_X, encoded_y)"
   ]
  }
 ],
 "metadata": {
  "kernelspec": {
   "display_name": "Python 3.9.12 ('autoembedder')",
   "language": "python",
   "name": "python3"
  },
  "language_info": {
   "codemirror_mode": {
    "name": "ipython",
    "version": 3
   },
   "file_extension": ".py",
   "mimetype": "text/x-python",
   "name": "python",
   "nbconvert_exporter": "python",
   "pygments_lexer": "ipython3",
   "version": "3.9.12"
  },
  "vscode": {
   "interpreter": {
    "hash": "950ba396633c7210a34f742c6b1745f808a43c09714e8882a4536677dfcbb43b"
   }
  }
 },
 "nbformat": 4,
 "nbformat_minor": 2
}
