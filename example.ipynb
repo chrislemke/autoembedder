{
 "cells": [
  {
   "cell_type": "code",
   "execution_count": null,
   "metadata": {},
   "outputs": [],
   "source": [
    "import dask.dataframe as dd\n",
    "import numpy as np\n",
    "import pandas as pd\n",
    "import torch\n",
    "import plotly.express as px\n",
    "from sklearn.manifold import TSNE\n",
    "from sklearn.model_selection import train_test_split\n",
    "from sklearn.preprocessing import MinMaxScaler\n",
    "from autoembedder import Autoembedder, dataloader, fit"
   ]
  },
  {
   "cell_type": "code",
   "execution_count": null,
   "metadata": {},
   "outputs": [],
   "source": [
    "data_path = \"/Users/ch.lemke/Downloads/creditcard.csv\""
   ]
  },
  {
   "cell_type": "code",
   "execution_count": null,
   "metadata": {},
   "outputs": [],
   "source": [
    "df = pd.read_csv(data_path)\n",
    "df[\"Time\"] = df[\"Time\"] / 3600 % 24"
   ]
  },
  {
   "cell_type": "code",
   "execution_count": null,
   "metadata": {},
   "outputs": [],
   "source": [
    "df = (\n",
    "    pd.concat([df.loc[df[\"Class\"] == 1], df.loc[df[\"Class\"] == 0].sample(3000)])\n",
    "    .sample(frac=1)\n",
    "    .reset_index(drop=True)\n",
    ")"
   ]
  },
  {
   "cell_type": "code",
   "execution_count": null,
   "metadata": {},
   "outputs": [],
   "source": [
    "X = TSNE(\n",
    "    n_components=2, random_state=42, learning_rate=\"auto\", init=\"random\"\n",
    ").fit_transform(df)\n",
    "fig = px.scatter(x=X[:, 0], y=X[:, 1], color=df[\"Class\"])\n",
    "fig.show()"
   ]
  },
  {
   "cell_type": "code",
   "execution_count": null,
   "metadata": {},
   "outputs": [],
   "source": [
    "df = pd.read_csv(data_path)\n",
    "X_train_df, X_test_df, y_train, y_test = train_test_split(\n",
    "    df.drop(\"Class\", axis=1), df[\"Class\"], test_size=0.2\n",
    ")"
   ]
  },
  {
   "cell_type": "code",
   "execution_count": null,
   "metadata": {},
   "outputs": [],
   "source": [
    "scaler = MinMaxScaler()\n",
    "X_train = scaler.fit_transform(X_train_df)\n",
    "X_test = scaler.transform(X_test_df)\n",
    "\n",
    "train_df = pd.DataFrame(X_train, columns=X_train_df.columns)\n",
    "test_df = pd.DataFrame(X_test, columns=X_test_df.columns)\n",
    "eval_df = pd.DataFrame(\n",
    "    np.concatenate((X_test, y_test.to_numpy()[:, None]), axis=1), columns=df.columns\n",
    ")"
   ]
  },
  {
   "cell_type": "code",
   "execution_count": null,
   "metadata": {},
   "outputs": [],
   "source": [
    "parameters = {\n",
    "    \"batch_size\": 32,\n",
    "    \"target\": \"Class\",\n",
    "    \"drop_cat_columns\": 1,\n",
    "    \"pin_memory\": 0,\n",
    "    \"num_workers\": 0,\n",
    "    \"drop_last\": 1,\n",
    "    \"hidden_layers\": [[16, 8], [8, 4], [4, 2]],\n",
    "    \"layer_bias\": 1,\n",
    "    \"use_mps\": 0,\n",
    "    \"epochs\": 30,\n",
    "    \"lr\": 0.0001,\n",
    "    \"weight_decay\": 0,\n",
    "    \"amsgrad\": 0,\n",
    "    \"xavier_init\": 0,\n",
    "    \"l1_lambda\": 0,\n",
    "    \"tensorboard_log_path\": None,\n",
    "    \"eval_input_path\": None,\n",
    "    \"n_save_checkpoints\": 0,\n",
    "    \"model_save_path\": None,\n",
    "    \"load_checkpoint_path\": None,\n",
    "    \"verbose\": 1,\n",
    "}"
   ]
  },
  {
   "cell_type": "code",
   "execution_count": null,
   "metadata": {},
   "outputs": [],
   "source": [
    "train_dl = dataloader(dd.from_pandas(train_df, npartitions=1), parameters)\n",
    "test_dl = dataloader(dd.from_pandas(test_df, npartitions=1), parameters)"
   ]
  },
  {
   "cell_type": "code",
   "execution_count": null,
   "metadata": {},
   "outputs": [],
   "source": [
    "model = Autoembedder(parameters, 30, [])"
   ]
  },
  {
   "cell_type": "code",
   "execution_count": null,
   "metadata": {},
   "outputs": [],
   "source": [
    "fit(parameters, model, train_dl, test_dl)"
   ]
  },
  {
   "cell_type": "code",
   "execution_count": null,
   "metadata": {},
   "outputs": [],
   "source": [
    "X_nonfraud = eval_df.query(\"Class == 0\").drop(\"Class\", axis=1).to_numpy()\n",
    "X_fraud = eval_df.query(\"Class == 1\").drop(\"Class\", axis=1).to_numpy().T\n",
    "\n",
    "with torch.no_grad():\n",
    "    model.eval()\n",
    "    non_fraud_encoded = model.encoder(torch.from_numpy(X_nonfraud))\n",
    "    fraud_encoded = model.encoder(torch.from_numpy(X_fraud))\n",
    "\n",
    "nrows = 3000\n",
    "sample_encoded_X = np.append(non_fraud_encoded[:nrows], fraud_encoded, axis=0)\n",
    "sample_encoded_y = np.append(np.zeros(nrows), np.ones(len(fraud_encoded)))"
   ]
  }
 ],
 "metadata": {
  "kernelspec": {
   "display_name": "Python 3.9.12 ('autoembedder')",
   "language": "python",
   "name": "python3"
  },
  "language_info": {
   "codemirror_mode": {
    "name": "ipython",
    "version": 3
   },
   "file_extension": ".py",
   "mimetype": "text/x-python",
   "name": "python",
   "nbconvert_exporter": "python",
   "pygments_lexer": "ipython3",
   "version": "3.9.12"
  },
  "vscode": {
   "interpreter": {
    "hash": "950ba396633c7210a34f742c6b1745f808a43c09714e8882a4536677dfcbb43b"
   }
  }
 },
 "nbformat": 4,
 "nbformat_minor": 2
}
